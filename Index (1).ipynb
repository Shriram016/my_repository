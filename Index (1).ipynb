{
 "cells": [
  {
   "cell_type": "markdown",
   "metadata": {},
   "source": [
    "# Welcome to Jupyter!"
   ]
  },
  {
   "cell_type": "markdown",
   "metadata": {},
   "source": [
    "This repo contains an introduction to [Jupyter](https://jupyter.org) and [IPython](https://ipython.org).\n",
    "\n",
    "Outline of some basics:\n",
    "\n",
    "* [Notebook Basics](../examples/Notebook/Notebook%20Basics.ipynb)\n",
    "* [IPython - beyond plain python](../examples/IPython%20Kernel/Beyond%20Plain%20Python.ipynb)\n",
    "* [Markdown Cells](../examples/Notebook/Working%20With%20Markdown%20Cells.ipynb)\n",
    "* [Rich Display System](../examples/IPython%20Kernel/Rich%20Output.ipynb)\n",
    "* [Custom Display logic](../examples/IPython%20Kernel/Custom%20Display%20Logic.ipynb)\n",
    "* [Running a Secure Public Notebook Server](../examples/Notebook/Running%20the%20Notebook%20Server.ipynb#Securing-the-notebook-server)\n",
    "* [How Jupyter works](../examples/Notebook/Multiple%20Languages%2C%20Frontends.ipynb) to run code in different languages."
   ]
  },
  {
   "cell_type": "markdown",
   "metadata": {},
   "source": [
    "You can also get this tutorial and run it on your laptop:\n",
    "\n",
    "    git clone https://github.com/ipython/ipython-in-depth\n",
    "\n",
    "Install IPython and Jupyter:\n",
    "\n",
    "with [conda](https://www.anaconda.com/download):\n",
    "\n",
    "    conda install ipython jupyter\n",
    "\n",
    "with pip:\n",
    "\n",
    "    # first, always upgrade pip!\n",
    "    pip install --upgrade pip\n",
    "    pip install --upgrade ipython jupyter\n",
    "\n",
    "Start the notebook in the tutorial directory:\n",
    "\n",
    "    cd ipython-in-depth\n",
    "    jupyter notebook"
   ]
  },
  {
   "cell_type": "code",
   "execution_count": 1,
   "metadata": {},
   "outputs": [
    {
     "name": "stdout",
     "output_type": "stream",
     "text": [
      "Collecting seaborn\n",
      "\u001b[?25l  Downloading https://files.pythonhosted.org/packages/a8/76/220ba4420459d9c4c9c9587c6ce607bf56c25b3d3d2de62056efe482dadc/seaborn-0.9.0-py3-none-any.whl (208kB)\n",
      "\u001b[K    100% |████████████████████████████████| 215kB 18.2MB/s ta 0:00:01\n",
      "\u001b[?25hRequirement already satisfied: pandas>=0.15.2 in /srv/conda/lib/python3.6/site-packages (from seaborn) (0.24.2)\n",
      "Requirement already satisfied: scipy>=0.14.0 in /srv/conda/lib/python3.6/site-packages (from seaborn) (1.2.1)\n",
      "Requirement already satisfied: matplotlib>=1.4.3 in /srv/conda/lib/python3.6/site-packages (from seaborn) (3.0.3)\n",
      "Requirement already satisfied: numpy>=1.9.3 in /srv/conda/lib/python3.6/site-packages (from seaborn) (1.16.3)\n",
      "Requirement already satisfied: pytz>=2011k in /srv/conda/lib/python3.6/site-packages (from pandas>=0.15.2->seaborn) (2019.1)\n",
      "Requirement already satisfied: python-dateutil>=2.5.0 in /srv/conda/lib/python3.6/site-packages (from pandas>=0.15.2->seaborn) (2.8.0)\n",
      "Requirement already satisfied: cycler>=0.10 in /srv/conda/lib/python3.6/site-packages (from matplotlib>=1.4.3->seaborn) (0.10.0)\n",
      "Requirement already satisfied: kiwisolver>=1.0.1 in /srv/conda/lib/python3.6/site-packages (from matplotlib>=1.4.3->seaborn) (1.0.1)\n",
      "Requirement already satisfied: pyparsing!=2.0.4,!=2.1.2,!=2.1.6,>=2.0.1 in /srv/conda/lib/python3.6/site-packages (from matplotlib>=1.4.3->seaborn) (2.4.0)\n",
      "Requirement already satisfied: six>=1.5 in /srv/conda/lib/python3.6/site-packages (from python-dateutil>=2.5.0->pandas>=0.15.2->seaborn) (1.12.0)\n",
      "Requirement already satisfied: setuptools in /srv/conda/lib/python3.6/site-packages (from kiwisolver>=1.0.1->matplotlib>=1.4.3->seaborn) (40.8.0)\n",
      "Installing collected packages: seaborn\n",
      "Successfully installed seaborn-0.9.0\n"
     ]
    }
   ],
   "source": [
    "!pip install -- seaborn"
   ]
  },
  {
   "cell_type": "code",
   "execution_count": 3,
   "metadata": {},
   "outputs": [],
   "source": [
    "import pandas as pd\n",
    "import numpy as np\n",
    "import os\n",
    "import datetime\n",
    "import matplotlib.pyplot as plt\n",
    "import seaborn as sb"
   ]
  },
  {
   "cell_type": "code",
   "execution_count": 4,
   "metadata": {},
   "outputs": [],
   "source": [
    "master_df =  pd.read_csv('201801-fordgobike-tripdata.csv')"
   ]
  },
  {
   "cell_type": "code",
   "execution_count": 5,
   "metadata": {},
   "outputs": [],
   "source": [
    "master_df['start_time'] = pd.to_datetime(master_df['start_time'])\n",
    "master_df['end_time'] = pd.to_datetime(master_df['end_time'])\n",
    "master_df['start_station_id'] = master_df['start_station_id'].astype(str)\n",
    "master_df['end_station_id'] = master_df['end_station_id'].astype(str)\n",
    "master_df['bike_id'] = master_df['bike_id'].astype(str)"
   ]
  },
  {
   "cell_type": "code",
   "execution_count": 12,
   "metadata": {},
   "outputs": [
    {
     "name": "stdout",
     "output_type": "stream",
     "text": [
      "<class 'pandas.core.frame.DataFrame'>\n",
      "RangeIndex: 94802 entries, 0 to 94801\n",
      "Data columns (total 20 columns):\n",
      "duration_sec               94802 non-null int64\n",
      "start_time                 94802 non-null datetime64[ns]\n",
      "end_time                   94802 non-null datetime64[ns]\n",
      "start_station_id           94802 non-null object\n",
      "start_station_name         94802 non-null object\n",
      "start_station_latitude     94802 non-null float64\n",
      "start_station_longitude    94802 non-null float64\n",
      "end_station_id             94802 non-null object\n",
      "end_station_name           94802 non-null object\n",
      "end_station_latitude       94802 non-null float64\n",
      "end_station_longitude      94802 non-null float64\n",
      "bike_id                    94802 non-null object\n",
      "user_type                  94802 non-null object\n",
      "member_birth_year          86963 non-null float64\n",
      "member_gender              87001 non-null object\n",
      "bike_share_for_all_trip    94802 non-null object\n",
      "travel_day                 94802 non-null object\n",
      "travel_month               94802 non-null object\n",
      "travel_year                94802 non-null object\n",
      "duration_min               94802 non-null float64\n",
      "dtypes: datetime64[ns](2), float64(6), int64(1), object(11)\n",
      "memory usage: 14.5+ MB\n"
     ]
    }
   ],
   "source": [
    "master_df.info()"
   ]
  },
  {
   "cell_type": "code",
   "execution_count": 7,
   "metadata": {},
   "outputs": [
    {
     "data": {
      "text/html": [
       "<div>\n",
       "<style scoped>\n",
       "    .dataframe tbody tr th:only-of-type {\n",
       "        vertical-align: middle;\n",
       "    }\n",
       "\n",
       "    .dataframe tbody tr th {\n",
       "        vertical-align: top;\n",
       "    }\n",
       "\n",
       "    .dataframe thead th {\n",
       "        text-align: right;\n",
       "    }\n",
       "</style>\n",
       "<table border=\"1\" class=\"dataframe\">\n",
       "  <thead>\n",
       "    <tr style=\"text-align: right;\">\n",
       "      <th></th>\n",
       "      <th>duration_sec</th>\n",
       "      <th>start_time</th>\n",
       "      <th>end_time</th>\n",
       "      <th>start_station_id</th>\n",
       "      <th>start_station_name</th>\n",
       "      <th>start_station_latitude</th>\n",
       "      <th>start_station_longitude</th>\n",
       "      <th>end_station_id</th>\n",
       "      <th>end_station_name</th>\n",
       "      <th>end_station_latitude</th>\n",
       "      <th>end_station_longitude</th>\n",
       "      <th>bike_id</th>\n",
       "      <th>user_type</th>\n",
       "      <th>member_birth_year</th>\n",
       "      <th>member_gender</th>\n",
       "      <th>bike_share_for_all_trip</th>\n",
       "    </tr>\n",
       "  </thead>\n",
       "  <tbody>\n",
       "    <tr>\n",
       "      <th>94797</th>\n",
       "      <td>695</td>\n",
       "      <td>2018-01-01 00:19:58.761</td>\n",
       "      <td>2018-01-01 00:31:33.832</td>\n",
       "      <td>23</td>\n",
       "      <td>The Embarcadero at Steuart St</td>\n",
       "      <td>37.791464</td>\n",
       "      <td>-122.391034</td>\n",
       "      <td>66</td>\n",
       "      <td>3rd St at Townsend St</td>\n",
       "      <td>37.778742</td>\n",
       "      <td>-122.392741</td>\n",
       "      <td>3671</td>\n",
       "      <td>Customer</td>\n",
       "      <td>NaN</td>\n",
       "      <td>NaN</td>\n",
       "      <td>No</td>\n",
       "    </tr>\n",
       "    <tr>\n",
       "      <th>94798</th>\n",
       "      <td>600</td>\n",
       "      <td>2018-01-01 00:19:48.761</td>\n",
       "      <td>2018-01-01 00:29:49.074</td>\n",
       "      <td>17</td>\n",
       "      <td>Embarcadero BART Station (Beale St at Market St)</td>\n",
       "      <td>37.792251</td>\n",
       "      <td>-122.397086</td>\n",
       "      <td>19</td>\n",
       "      <td>Post St at Kearny St</td>\n",
       "      <td>37.788975</td>\n",
       "      <td>-122.403452</td>\n",
       "      <td>603</td>\n",
       "      <td>Customer</td>\n",
       "      <td>NaN</td>\n",
       "      <td>NaN</td>\n",
       "      <td>No</td>\n",
       "    </tr>\n",
       "    <tr>\n",
       "      <th>94799</th>\n",
       "      <td>1151</td>\n",
       "      <td>2018-01-01 00:09:31.745</td>\n",
       "      <td>2018-01-01 00:28:43.159</td>\n",
       "      <td>97</td>\n",
       "      <td>14th St at Mission St</td>\n",
       "      <td>37.768265</td>\n",
       "      <td>-122.420110</td>\n",
       "      <td>125</td>\n",
       "      <td>20th St at Bryant St</td>\n",
       "      <td>37.759200</td>\n",
       "      <td>-122.409851</td>\n",
       "      <td>3455</td>\n",
       "      <td>Subscriber</td>\n",
       "      <td>1992.0</td>\n",
       "      <td>Male</td>\n",
       "      <td>No</td>\n",
       "    </tr>\n",
       "    <tr>\n",
       "      <th>94800</th>\n",
       "      <td>714</td>\n",
       "      <td>2018-01-01 00:07:52.943</td>\n",
       "      <td>2018-01-01 00:19:47.075</td>\n",
       "      <td>74</td>\n",
       "      <td>Laguna St at Hayes St</td>\n",
       "      <td>37.776435</td>\n",
       "      <td>-122.426244</td>\n",
       "      <td>70</td>\n",
       "      <td>Central Ave at Fell St</td>\n",
       "      <td>37.773311</td>\n",
       "      <td>-122.444293</td>\n",
       "      <td>2423</td>\n",
       "      <td>Subscriber</td>\n",
       "      <td>1986.0</td>\n",
       "      <td>Male</td>\n",
       "      <td>No</td>\n",
       "    </tr>\n",
       "    <tr>\n",
       "      <th>94801</th>\n",
       "      <td>145</td>\n",
       "      <td>2018-01-01 00:07:41.040</td>\n",
       "      <td>2018-01-01 00:10:06.241</td>\n",
       "      <td>316</td>\n",
       "      <td>San Salvador St at 1st St</td>\n",
       "      <td>37.330165</td>\n",
       "      <td>-121.885831</td>\n",
       "      <td>311</td>\n",
       "      <td>Paseo De San Antonio at 2nd St</td>\n",
       "      <td>37.333798</td>\n",
       "      <td>-121.886943</td>\n",
       "      <td>2473</td>\n",
       "      <td>Subscriber</td>\n",
       "      <td>1957.0</td>\n",
       "      <td>Male</td>\n",
       "      <td>No</td>\n",
       "    </tr>\n",
       "  </tbody>\n",
       "</table>\n",
       "</div>"
      ],
      "text/plain": [
       "       duration_sec              start_time                end_time  \\\n",
       "94797           695 2018-01-01 00:19:58.761 2018-01-01 00:31:33.832   \n",
       "94798           600 2018-01-01 00:19:48.761 2018-01-01 00:29:49.074   \n",
       "94799          1151 2018-01-01 00:09:31.745 2018-01-01 00:28:43.159   \n",
       "94800           714 2018-01-01 00:07:52.943 2018-01-01 00:19:47.075   \n",
       "94801           145 2018-01-01 00:07:41.040 2018-01-01 00:10:06.241   \n",
       "\n",
       "      start_station_id                                start_station_name  \\\n",
       "94797               23                     The Embarcadero at Steuart St   \n",
       "94798               17  Embarcadero BART Station (Beale St at Market St)   \n",
       "94799               97                             14th St at Mission St   \n",
       "94800               74                             Laguna St at Hayes St   \n",
       "94801              316                         San Salvador St at 1st St   \n",
       "\n",
       "       start_station_latitude  start_station_longitude end_station_id  \\\n",
       "94797               37.791464              -122.391034             66   \n",
       "94798               37.792251              -122.397086             19   \n",
       "94799               37.768265              -122.420110            125   \n",
       "94800               37.776435              -122.426244             70   \n",
       "94801               37.330165              -121.885831            311   \n",
       "\n",
       "                     end_station_name  end_station_latitude  \\\n",
       "94797           3rd St at Townsend St             37.778742   \n",
       "94798            Post St at Kearny St             37.788975   \n",
       "94799            20th St at Bryant St             37.759200   \n",
       "94800          Central Ave at Fell St             37.773311   \n",
       "94801  Paseo De San Antonio at 2nd St             37.333798   \n",
       "\n",
       "       end_station_longitude bike_id   user_type  member_birth_year  \\\n",
       "94797            -122.392741    3671    Customer                NaN   \n",
       "94798            -122.403452     603    Customer                NaN   \n",
       "94799            -122.409851    3455  Subscriber             1992.0   \n",
       "94800            -122.444293    2423  Subscriber             1986.0   \n",
       "94801            -121.886943    2473  Subscriber             1957.0   \n",
       "\n",
       "      member_gender bike_share_for_all_trip  \n",
       "94797           NaN                      No  \n",
       "94798           NaN                      No  \n",
       "94799          Male                      No  \n",
       "94800          Male                      No  \n",
       "94801          Male                      No  "
      ]
     },
     "execution_count": 7,
     "metadata": {},
     "output_type": "execute_result"
    }
   ],
   "source": [
    "master_df.tail()"
   ]
  },
  {
   "cell_type": "code",
   "execution_count": 8,
   "metadata": {
    "scrolled": true
   },
   "outputs": [
    {
     "name": "stdout",
     "output_type": "stream",
     "text": [
      "2018-01-01 00:07:41.040000\n",
      "2018 1 1 2018-01-01 00:07:41.040000\n"
     ]
    }
   ],
   "source": [
    "print(master_df.loc[94801].start_time)\n",
    "print(master_df.loc[94801].start_time.year,master_df.loc[94801].start_time.month,master_df.loc[94801].start_time.day,master_df.loc[94801].start_time.date(),master_df.loc[94801].start_time.time())"
   ]
  },
  {
   "cell_type": "code",
   "execution_count": 56,
   "metadata": {},
   "outputs": [
    {
     "data": {
      "text/plain": [
       "('00', 'Monday')"
      ]
     },
     "execution_count": 56,
     "metadata": {},
     "output_type": "execute_result"
    }
   ],
   "source": [
    "master_df.loc[94801].start_time.strftime('%H') , master_df.loc[94801].start_time.strftime('%A') "
   ]
  },
  {
   "cell_type": "code",
   "execution_count": 9,
   "metadata": {},
   "outputs": [
    {
     "data": {
      "text/plain": [
       "datetime.date(2018, 2, 1)"
      ]
     },
     "execution_count": 9,
     "metadata": {},
     "output_type": "execute_result"
    }
   ],
   "source": []
  },
  {
   "cell_type": "code",
   "execution_count": 57,
   "metadata": {},
   "outputs": [],
   "source": [
    "master_df['travel_day'] = master_df.start_time.dt.strftime('%A') \n",
    "master_df['travel_month'] = master_df.start_time.dt.strftime('%B') \n",
    "master_df['travel_year'] =  master_df.start_time.dt.strftime('%Y') \n",
    "master_df['travel_hour'] =  master_df.start_time.dt.strftime('%H') \n",
    "master_df['duration_min'] = master_df['duration_sec']/60\n",
    "#master_df['travel_time'] = master_df.loc[0].end_time.strftime('%H:%M')"
   ]
  },
  {
   "cell_type": "code",
   "execution_count": 31,
   "metadata": {},
   "outputs": [
    {
     "name": "stderr",
     "output_type": "stream",
     "text": [
      "/srv/conda/lib/python3.6/site-packages/IPython/core/interactiveshell.py:3296: FutureWarning: specifying 'categories' or 'ordered' in .astype() is deprecated; pass a CategoricalDtype instead\n",
      "  exec(code_obj, self.user_global_ns, self.user_ns)\n"
     ]
    }
   ],
   "source": [
    "month_order =['January','February','March','April','May','June','July','August','September','October','November','December']\n",
    "day_order =['Sunday','Monday','Tuesday','Wednesday','Thursday','Friday','Saturday']\n",
    "master_df['travel_day'] = master_df['travel_day'].astype('category',ordered=True,categories=day_order)\n",
    "master_df['travel_month'] = master_df['travel_month'].astype('category',ordered=True,categories=month_order)"
   ]
  },
  {
   "cell_type": "code",
   "execution_count": 15,
   "metadata": {},
   "outputs": [
    {
     "data": {
      "text/plain": [
       "count    94802.000000\n",
       "mean        14.515599\n",
       "std         42.509948\n",
       "min          1.016667\n",
       "25%          5.983333\n",
       "50%          9.250000\n",
       "75%         14.233333\n",
       "max       1425.766667\n",
       "Name: duration_min, dtype: float64"
      ]
     },
     "execution_count": 15,
     "metadata": {},
     "output_type": "execute_result"
    }
   ],
   "source": [
    "master_df['duration_min'].describe()"
   ]
  },
  {
   "cell_type": "code",
   "execution_count": 32,
   "metadata": {},
   "outputs": [
    {
     "data": {
      "image/png": "[encoded data removed]",
      "text/plain": [
       "<Figure size 432x288 with 1 Axes>"
      ]
     },
     "metadata": {
      "needs_background": "light"
     },
     "output_type": "display_data"
    }
   ],
   "source": [
    "bins = np.arange(0,master_df['duration_min'].max()+0.5,0.5)\n",
    "plt.hist(data=master_df,x='duration_min',bins=bins);\n",
    "plt.xlim(0,50);"
   ]
  },
  {
   "cell_type": "code",
   "execution_count": 39,
   "metadata": {},
   "outputs": [
    {
     "data": {
      "image/png": "[encoded data removed]",
      "text/plain": [
       "<Figure size 432x288 with 1 Axes>"
      ]
     },
     "metadata": {
      "needs_background": "light"
     },
     "output_type": "display_data"
    }
   ],
   "source": [
    "color=sb.color_palette()[0]\n",
    "sb.countplot(data=master_df,x='member_gender',color=color);\n"
   ]
  },
  {
   "cell_type": "code",
   "execution_count": 41,
   "metadata": {
    "scrolled": true
   },
   "outputs": [
    {
     "data": {
      "image/png": "[encoded data removed]",
      "text/plain": [
       "<Figure size 432x288 with 1 Axes>"
      ]
     },
     "metadata": {
      "needs_background": "light"
     },
     "output_type": "display_data"
    }
   ],
   "source": [
    "color=sb.color_palette()[0]\n",
    "sb.countplot(data=master_df,y='travel_day',color=color);\n"
   ]
  },
  {
   "cell_type": "code",
   "execution_count": 58,
   "metadata": {},
   "outputs": [
    {
     "data": {
      "image/png": "[encoded data removed]",
      "text/plain": [
       "<Figure size 432x288 with 1 Axes>"
      ]
     },
     "metadata": {
      "needs_background": "light"
     },
     "output_type": "display_data"
    }
   ],
   "source": [
    "color=sb.color_palette()[0]\n",
    "sb.countplot(data=master_df,y='travel_hour',color=color);"
   ]
  },
  {
   "cell_type": "code",
   "execution_count": 55,
   "metadata": {},
   "outputs": [
    {
     "data": {
      "image/png": "[encoded data removed]",
      "text/plain": [
       "<Figure size 432x288 with 1 Axes>"
      ]
     },
     "metadata": {
      "needs_background": "light"
     },
     "output_type": "display_data"
    }
   ],
   "source": [
    "sb.countplot(data=master_df,x='user_type');"
   ]
  },
  {
   "cell_type": "markdown",
   "metadata": {},
   "source": [
    "Questions\n",
    "\n",
    "•\tWhen are most trips taken in terms of time of day, day of the week, or month of the year?\n",
    "\n",
    "•\tHow long does the average trip take?\n",
    "\n",
    "•\tDoes the above depend on if a user is a subscriber or customer?\n",
    "\n"
   ]
  },
  {
   "cell_type": "code",
   "execution_count": 43,
   "metadata": {},
   "outputs": [
    {
     "data": {
      "image/png": "[encoded data removed]",
      "text/plain": [
       "<Figure size 432x288 with 1 Axes>"
      ]
     },
     "metadata": {
      "needs_background": "light"
     },
     "output_type": "display_data"
    }
   ],
   "source": [
    "sb.countplot(data=master_df,x='travel_day',hue='member_gender');"
   ]
  },
  {
   "cell_type": "code",
   "execution_count": null,
   "metadata": {},
   "outputs": [],
   "source": []
  },
  {
   "cell_type": "code",
   "execution_count": 44,
   "metadata": {},
   "outputs": [
    {
     "data": {
      "text/plain": [
       "<Figure size 648x360 with 0 Axes>"
      ]
     },
     "metadata": {},
     "output_type": "display_data"
    },
    {
     "data": {
      "image/png": "[encoded data removed]",
      "text/plain": [
       "<Figure size 432x216 with 2 Axes>"
      ]
     },
     "metadata": {
      "needs_background": "light"
     },
     "output_type": "display_data"
    }
   ],
   "source": [
    "plt.figure(figsize=[9,5])\n",
    "\n",
    "g=sb.FacetGrid(data=master_df,col='user_type')\n",
    "bins = np.arange(0,master_df['duration_min'].max()+0.5,0.5)\n",
    "g.map(plt.hist,'duration_min',bins=bins);\n",
    "plt.xlim(0,30);"
   ]
  },
  {
   "cell_type": "code",
   "execution_count": 45,
   "metadata": {},
   "outputs": [
    {
     "data": {
      "text/plain": [
       "<Figure size 648x360 with 0 Axes>"
      ]
     },
     "metadata": {},
     "output_type": "display_data"
    },
    {
     "data": {
      "image/png": "[encoded data removed]",
      "text/plain": [
       "<Figure size 648x216 with 3 Axes>"
      ]
     },
     "metadata": {
      "needs_background": "light"
     },
     "output_type": "display_data"
    }
   ],
   "source": [
    "plt.figure(figsize=[9,5])\n",
    "\n",
    "g=sb.FacetGrid(data=master_df,col='member_gender')\n",
    "bins = np.arange(0,master_df['duration_min'].max()+0.5,0.5)\n",
    "g.map(plt.hist,'duration_min',bins=bins);\n",
    "plt.xlim(0,30);"
   ]
  },
  {
   "cell_type": "code",
   "execution_count": 52,
   "metadata": {},
   "outputs": [
    {
     "data": {
      "image/png": "[encoded data removed]",
      "text/plain": [
       "<Figure size 432x288 with 1 Axes>"
      ]
     },
     "metadata": {
      "needs_background": "light"
     },
     "output_type": "display_data"
    }
   ],
   "source": [
    "sb.boxplot(data=master_df,y='duration_min',x='member_gender');\n",
    "plt.yscale('log');\n",
    "plt.yticks([0,1,2,5,10,20,50,100],[0,1,2,5,10,20,50,100]);\n",
    "plt.ylim(0,100);"
   ]
  },
  {
   "cell_type": "code",
   "execution_count": 53,
   "metadata": {},
   "outputs": [
    {
     "data": {
      "image/png": "[encoded data removed]",
      "text/plain": [
       "<Figure size 432x288 with 1 Axes>"
      ]
     },
     "metadata": {
      "needs_background": "light"
     },
     "output_type": "display_data"
    }
   ],
   "source": [
    "sb.boxplot(data=master_df,y='duration_min',x='user_type');\n",
    "plt.yscale('log');\n",
    "plt.yticks([0,1,2,5,10,20,50,100],[0,1,2,5,10,20,50,100]);\n",
    "plt.ylim(0,100);"
   ]
  }
 ],
 "metadata": {
  "kernelspec": {
   "display_name": "Python 3",
   "language": "python",
   "name": "python3"
  },
  "language_info": {
   "codemirror_mode": {
    "name": "ipython",
    "version": 3
   },
   "file_extension": ".py",
   "mimetype": "text/x-python",
   "name": "python",
   "nbconvert_exporter": "python",
   "pygments_lexer": "ipython3",
   "version": "3.6.7"
  }
 },
 "nbformat": 4,
 "nbformat_minor": 2
}
